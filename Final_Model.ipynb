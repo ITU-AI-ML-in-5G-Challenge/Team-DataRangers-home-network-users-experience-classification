{
 "cells": [
  {
   "cell_type": "markdown",
   "id": "7e81b5bf",
   "metadata": {},
   "source": [
    "#  This notebook reads the dataset and makes separate pandas dataframes for each of train, validation and test UGE  and UBE data"
   ]
  },
  {
   "cell_type": "markdown",
   "id": "71c4eeab",
   "metadata": {},
   "source": [
    "## Loading Packages and Reading Files"
   ]
  },
  {
   "cell_type": "markdown",
   "id": "d72b058d",
   "metadata": {},
   "source": [
    "1. Please load the model from the uploaded finalModel.pkl file into the variable tuned_RF using below load model cell when applying to unseen test data\n",
    "\n",
    "2. Also please update the paths appropriately to load the unseen data as test_ube_list and test_uge_list variables and run the predictions. For the CSVs to be read properly the folder imgs_2022062711272705555 should be in the same location as this notebook"
   ]
  },
  {
   "cell_type": "code",
   "execution_count": 1,
   "id": "be6a524c",
   "metadata": {},
   "outputs": [],
   "source": [
    "#load model\n",
    "import pickle\n",
    "finalModel = open('finalModel.pkl', 'rb')\n",
    "tuned_RF = pickle.load(finalModel)\n",
    "finalModel.close()"
   ]
  },
  {
   "cell_type": "code",
   "execution_count": 2,
   "id": "81dc855a",
   "metadata": {
    "scrolled": false
   },
   "outputs": [],
   "source": [
    "# importing required modules\n",
    "%matplotlib inline\n",
    "import pandas as pd\n",
    "import glob\n",
    "import os\n",
    "import re\n",
    "import matplotlib.pyplot as plt\n",
    "import numpy as np\n",
    "from collections import Counter\n",
    "\n",
    "import os\n",
    "import time\n",
    "import numpy as np\n",
    "import pywt\n",
    "\n",
    "import datetime as dt\n",
    "\n",
    "import scipy.stats\n",
    "\n",
    "import scipy.io as sio\n",
    "from xgboost import XGBClassifier\n",
    "from sklearn.ensemble import GradientBoostingClassifier\n",
    "from sklearn.ensemble import RandomForestClassifier\n",
    "from sklearn.linear_model import LogisticRegression\n",
    "from sklearn.neighbors import KNeighborsClassifier\n",
    "from sklearn.tree import DecisionTreeClassifier\n",
    "from sklearn.svm import SVC\n",
    "from sklearn.neural_network import MLPClassifier\n",
    "from sklearn.naive_bayes import GaussianNB\n",
    "from sklearn.ensemble import AdaBoostClassifier\n",
    "from sklearn.gaussian_process import GaussianProcessClassifier\n",
    "\n",
    "from sklearn.metrics import confusion_matrix, ConfusionMatrixDisplay,classification_report,RocCurveDisplay\n",
    "import pickle\n",
    "\n"
   ]
  },
  {
   "cell_type": "code",
   "execution_count": 3,
   "id": "62fed253",
   "metadata": {
    "scrolled": false
   },
   "outputs": [],
   "source": [
    "## please adjust this paths accordingly\n",
    "path = r'imgs_2022062711272705555\\DataSet'\n",
    "pat = r'.*\\\\(.*?)\\.'\n",
    "ind_list=['indicator1','indicator2','indicator3','indicator4','indicator5','indicator6','indicator7','indicator8']"
   ]
  },
  {
   "cell_type": "code",
   "execution_count": 4,
   "id": "b67e3a87",
   "metadata": {
    "scrolled": true
   },
   "outputs": [],
   "source": [
    "def read_files_list_of_dataframes(exp_type,data_type) :\n",
    "    \n",
    "    '''\n",
    "        This function read the csv files for an user experience type and dataset type( train,validation,test), \n",
    "        adds the username from the csv's name as a column \n",
    "        and returns list of dataframes with each csv as a dataframe\n",
    "        \n",
    "        parameters:\n",
    "            exp_type : UGE or UBE as string\n",
    "            data_type : train,validation,test as string\n",
    "    '''\n",
    "\n",
    "    files = glob.glob(os.path.join(path , f'{data_type}set\\\\{exp_type}\\\\*.csv'))\n",
    "#     print(files)\n",
    "\n",
    "\n",
    "    li = []\n",
    "\n",
    "\n",
    "    for filename in files:\n",
    "        df = pd.read_csv(filename, index_col=None, header=0,parse_dates=['specifictime'])\n",
    "        df.insert(0, 'username', re.search(pat,filename).group(1))\n",
    "\n",
    "        li.append(df)\n",
    "   \n",
    "    return li\n",
    "    "
   ]
  },
  {
   "cell_type": "code",
   "execution_count": 5,
   "id": "de1b8cf9",
   "metadata": {
    "scrolled": true
   },
   "outputs": [],
   "source": [
    "## Reading the CSVs into list of dataframes using above function\n",
    "train_ube_list=read_files_list_of_dataframes('UBE','train')\n",
    "train_uge_list=read_files_list_of_dataframes('UGE','train')\n",
    "val_ube_list=read_files_list_of_dataframes('UBE','validation')\n",
    "val_uge_list=read_files_list_of_dataframes('UGE','validation')\n",
    "test_ube_list=read_files_list_of_dataframes('UBE','test') # please read the unseen data into this variable as it need be preprocessed \n",
    "test_uge_list=read_files_list_of_dataframes('UGE','test') # please read the unseen data into this variable as it need be preprocessed\n"
   ]
  },
  {
   "cell_type": "code",
   "execution_count": 6,
   "id": "95dd9add",
   "metadata": {
    "scrolled": false
   },
   "outputs": [],
   "source": [
    "#creating dictionaries to make it easier to loop through\n",
    "userwise_data={\"train_ube\":train_ube_list,\"train_uge\":train_uge_list,\"val_ube\":val_ube_list,\"val_uge\":val_uge_list,\"test_ube\":test_ube_list,\"test_uge\":test_uge_list}\n",
    "train_userwise_data={\"train_ube\":train_ube_list,\"train_uge\":train_uge_list}\n",
    "test_userwise_data={\"test_ube\":test_ube_list,\"test_uge\":test_uge_list}\n",
    "train_uge_data={\"train_uge\":train_uge_list}\n",
    "train_ube_data={\"train_ube\":train_ube_list}"
   ]
  },
  {
   "cell_type": "code",
   "execution_count": 7,
   "id": "bb2c98b8",
   "metadata": {
    "scrolled": true
   },
   "outputs": [],
   "source": [
    "# making the target variable dataset for test and train . \n",
    "# as noted in the docuement adding the validation dataset to training reduced performance so did not add\n",
    "y_train= np.append(np.repeat(0,len(train_userwise_data['train_uge'])),np.repeat(1,len(train_userwise_data['train_ube'])))\n",
    "\n",
    "y_test=np.append(np.repeat(0,len(test_userwise_data['test_uge'])),np.repeat(1,len(test_userwise_data['test_ube'])))"
   ]
  },
  {
   "cell_type": "markdown",
   "id": "abba555e",
   "metadata": {
    "heading_collapsed": true
   },
   "source": [
    "## Grouping the data by timestamp"
   ]
  },
  {
   "cell_type": "code",
   "execution_count": 8,
   "id": "1e520d86",
   "metadata": {
    "hidden": true,
    "scrolled": false
   },
   "outputs": [
    {
     "name": "stdout",
     "output_type": "stream",
     "text": [
      "train_ube\n",
      "train_uge\n"
     ]
    }
   ],
   "source": [
    "#Grouping training dataset by timestamp\n",
    "ind_list=['indicator1','indicator2','indicator3','indicator4','indicator5','indicator6','indicator7','indicator8']\n",
    "train_data_grouped={}\n",
    "for dataset_name,li in train_userwise_data.items():\n",
    "    print(dataset_name)\n",
    "    grouped_li=[]\n",
    "    for user_df in li:\n",
    "        user_df_times=user_df.copy()\n",
    "        user_df_times.drop(['indicator7','indicator8'],axis=1,inplace=True)\n",
    "        user_df_times=user_df_times.groupby(['username','day','hour','specifictime'],as_index = False).sum()\n",
    "        \n",
    "        user_df_rates=user_df[['username','day','hour','specifictime','indicator7','indicator8']].copy()\n",
    "        user_df_rates=user_df_rates.groupby(['username','day','hour','specifictime'],as_index = False).mean()\n",
    "        \n",
    "        user_df_copy=pd.concat([user_df_times,user_df_rates[['indicator7','indicator8']]],axis=1)\n",
    "        \n",
    "        grouped_li.append(user_df_copy)\n",
    "    train_data_grouped[dataset_name]=grouped_li"
   ]
  },
  {
   "cell_type": "code",
   "execution_count": 9,
   "id": "ef8a425a",
   "metadata": {
    "hidden": true,
    "scrolled": false
   },
   "outputs": [
    {
     "name": "stdout",
     "output_type": "stream",
     "text": [
      "test_ube\n",
      "test_uge\n"
     ]
    }
   ],
   "source": [
    "#Grouping testing dataset by timestamp\n",
    "ind_list=['indicator1','indicator2','indicator3','indicator4','indicator5','indicator6','indicator7','indicator8']\n",
    "test_data_grouped={}\n",
    "for dataset_name,li in test_userwise_data.items():\n",
    "    print(dataset_name)\n",
    "    grouped_li=[]\n",
    "    for user_df in li:\n",
    "        user_df_times=user_df.copy()\n",
    "        user_df_times.drop(['indicator7','indicator8'],axis=1,inplace=True)\n",
    "        user_df_times=user_df_times.groupby(['username','day','hour','specifictime'],as_index = False).sum()\n",
    "        \n",
    "        user_df_rates=user_df[['username','day','hour','specifictime','indicator7','indicator8']].copy()\n",
    "        user_df_rates=user_df_rates.groupby(['username','day','hour','specifictime'],as_index = False).mean()\n",
    "        \n",
    "        user_df_copy=pd.concat([user_df_times,user_df_rates[['indicator7','indicator8']]],axis=1)\n",
    "        \n",
    "        grouped_li.append(user_df_copy)\n",
    "    test_data_grouped[dataset_name]=grouped_li"
   ]
  },
  {
   "cell_type": "markdown",
   "id": "77a06b9e",
   "metadata": {
    "scrolled": true
   },
   "source": [
    "## DWT , ML and Prediction"
   ]
  },
  {
   "cell_type": "code",
   "execution_count": 10,
   "id": "18772f7a",
   "metadata": {},
   "outputs": [],
   "source": [
    "def get_train_test(df, y_col, x_cols, ratio):\n",
    "    \"\"\" \n",
    "    This method transforms a dataframe into a train and test set, for this you need to specify:\n",
    "    1. the ratio train : test (usually 0.7)\n",
    "    2. the column with the Y_values\n",
    "    \"\"\"\n",
    "    mask = np.random.rand(len(df)) < ratio\n",
    "    df_train = df[mask]\n",
    "    df_test = df[~mask]\n",
    "       \n",
    "    Y_train = df_train[y_col].values\n",
    "    Y_test = df_test[y_col].values\n",
    "    X_train = df_train[x_cols].values\n",
    "    X_test = df_test[x_cols].values\n",
    "    return df_train, df_test, X_train, Y_train, X_test, Y_test\n",
    "    \n",
    "def display_dict_models(dict_models, sort_by='test_score'):\n",
    "    cls = [key for key in dict_models.keys()]\n",
    "    test_s = [dict_models[key]['test_score'] for key in cls]\n",
    "    training_s = [dict_models[key]['train_score'] for key in cls]\n",
    "    training_t = [dict_models[key]['train_time'] for key in cls]\n",
    "    \n",
    "    df_ = pd.DataFrame(data=np.zeros(shape=(len(cls),4)), columns = ['classifier', 'train_score', 'test_score', 'train_time'])\n",
    "    for ii in range(0,len(cls)):\n",
    "        df_.loc[ii, 'classifier'] = cls[ii]\n",
    "        df_.loc[ii, 'train_score'] = training_s[ii]\n",
    "        df_.loc[ii, 'test_score'] = test_s[ii]\n",
    "        df_.loc[ii, 'train_time'] = training_t[ii]\n",
    "    \n",
    "    display(df_.sort_values(by=sort_by, ascending=False))\n",
    "    \n",
    "def calculate_entropy(list_values):\n",
    "    counter_values = Counter(list_values).most_common()\n",
    "    probabilities = [elem[1]/len(list_values) for elem in counter_values]\n",
    "    entropy=scipy.stats.entropy(probabilities)\n",
    "    return entropy\n",
    "\n",
    "def calculate_statistics(list_values):\n",
    "    n5 = np.nanpercentile(list_values, 5)\n",
    "    n25 = np.nanpercentile(list_values, 25)\n",
    "    n75 = np.nanpercentile(list_values, 75)\n",
    "    n95 = np.nanpercentile(list_values, 95)\n",
    "    median = np.nanpercentile(list_values, 50)\n",
    "    mean = np.nanmean(list_values)\n",
    "    std = np.nanstd(list_values)\n",
    "    var = np.nanvar(list_values)\n",
    "    rms = np.nanmean(np.sqrt(list_values**2))\n",
    "    return [n5, n25, n75, n95, median, mean, std, var, rms]\n",
    "\n",
    "def calculate_crossings(list_values):\n",
    "    zero_crossing_indices = np.nonzero(np.diff(np.array(list_values) > 0))[0]\n",
    "    no_zero_crossings = len(zero_crossing_indices)\n",
    "    mean_crossing_indices = np.nonzero(np.diff(np.array(list_values) > np.nanmean(list_values)))[0]\n",
    "    no_mean_crossings = len(mean_crossing_indices)\n",
    "    return [no_zero_crossings, no_mean_crossings]\n",
    "\n",
    "def get_features(list_values):\n",
    "    entropy = calculate_entropy(list_values)\n",
    "    crossings = calculate_crossings(list_values)\n",
    "    statistics = calculate_statistics(list_values)\n",
    "    return [entropy] + crossings + statistics\n",
    "\n",
    "def get_5g_features(dataset, labels, waveletname,level):\n",
    "    uci_har_features = []\n",
    "    for signal_no in range(0, len(dataset)):\n",
    "        features = []\n",
    "        for signal_comp in range(0,dataset[signal_no].shape[1]):\n",
    "            signal = np.array(dataset[signal_no][:,signal_comp])\n",
    "            list_coeff = pywt.wavedec(signal, waveletname,level=level)\n",
    "            for coeff in list_coeff:\n",
    "                features += get_features(coeff)\n",
    "        uci_har_features.append(features)\n",
    "    X = np.array(uci_har_features)\n",
    "    Y = np.array(labels)\n",
    "    return X, Y"
   ]
  },
  {
   "cell_type": "code",
   "execution_count": 11,
   "id": "117a698a",
   "metadata": {
    "scrolled": true
   },
   "outputs": [
    {
     "name": "stderr",
     "output_type": "stream",
     "text": [
      "C:\\Users\\pramodh\\AppData\\Local\\Programs\\Python\\Python39\\lib\\site-packages\\pywt\\_multilevel.py:43: UserWarning: Level value of 10 is too high: all coefficients will experience boundary effects.\n",
      "  warnings.warn(\n"
     ]
    }
   ],
   "source": [
    "X_train_raw=[k[ind_list] for k in train_data_grouped['train_uge']]+[k[ind_list] for k in train_data_grouped['train_ube']] \n",
    "X_test_raw =[k[ind_list] for k in test_data_grouped['test_uge']] +[k[ind_list] for k in test_data_grouped['test_ube']]\n",
    "\n",
    "train_signals_list = [k.to_numpy() for k in X_train_raw]\n",
    "\n",
    "test_signals_list = [k.to_numpy() for k in X_test_raw]\n",
    "\n",
    "waveletname = 'db5'\n",
    "X_train,y_train = get_5g_features(train_signals_list,y_train,waveletname,level=10)\n",
    "X_test,y_test = get_5g_features(test_signals_list,y_test,waveletname,level=10)"
   ]
  },
  {
   "cell_type": "code",
   "execution_count": 12,
   "id": "efeb5628",
   "metadata": {},
   "outputs": [],
   "source": [
    "#3 commented this out so that the model loaded from .pkl file can be used\n",
    "# tuned_RF=RandomForestClassifier(n_estimators=90,\n",
    "#                                  min_samples_split = 2,\n",
    "#                                  min_samples_leaf = 1,\n",
    "#                                  max_features ='sqrt',\n",
    "#                                  max_depth = 20,\n",
    "#                                  bootstrap = True,\n",
    "#                                  random_state=27)\n",
    "                                                    "
   ]
  },
  {
   "cell_type": "code",
   "execution_count": 13,
   "id": "bc93638d",
   "metadata": {},
   "outputs": [],
   "source": [
    "#commented this out so that the model loaded from .pkl file can be used\n",
    "# tuned_RF.fit(X_train, y_train)"
   ]
  },
  {
   "cell_type": "code",
   "execution_count": 14,
   "id": "e3947132",
   "metadata": {},
   "outputs": [
    {
     "name": "stdout",
     "output_type": "stream",
     "text": [
      "              precision    recall  f1-score   support\n",
      "\n",
      "           0       1.00      1.00      1.00       150\n",
      "           1       1.00      1.00      1.00       150\n",
      "\n",
      "    accuracy                           1.00       300\n",
      "   macro avg       1.00      1.00      1.00       300\n",
      "weighted avg       1.00      1.00      1.00       300\n",
      "\n"
     ]
    },
    {
     "data": {
      "image/png": "[encoded data removed]",
      "text/plain": [
       "<Figure size 432x288 with 2 Axes>"
      ]
     },
     "metadata": {
      "needs_background": "light"
     },
     "output_type": "display_data"
    },
    {
     "data": {
      "image/png": "[encoded data removed]",
      "text/plain": [
       "<Figure size 432x288 with 1 Axes>"
      ]
     },
     "metadata": {
      "needs_background": "light"
     },
     "output_type": "display_data"
    }
   ],
   "source": [
    "train_predictions=tuned_RF.predict(X_train)\n",
    "print(classification_report(y_train,train_predictions))\n",
    "cm = confusion_matrix(y_train, train_predictions, labels=tuned_RF.classes_)\n",
    "disp = ConfusionMatrixDisplay(confusion_matrix=cm,\n",
    "                             display_labels=tuned_RF.classes_)\n",
    "disp.plot()\n",
    "plt.show()\n",
    "\n",
    "RocCurveDisplay.from_estimator(tuned_RF,X_train,y_train)\n",
    "plt.show()"
   ]
  },
  {
   "cell_type": "code",
   "execution_count": 15,
   "id": "da100af6",
   "metadata": {},
   "outputs": [
    {
     "name": "stdout",
     "output_type": "stream",
     "text": [
      "              precision    recall  f1-score   support\n",
      "\n",
      "           0       0.63      0.66      0.65        50\n",
      "           1       0.65      0.62      0.63        50\n",
      "\n",
      "    accuracy                           0.64       100\n",
      "   macro avg       0.64      0.64      0.64       100\n",
      "weighted avg       0.64      0.64      0.64       100\n",
      "\n"
     ]
    },
    {
     "data": {
      "image/png": "[encoded data removed]",
      "text/plain": [
       "<Figure size 432x288 with 2 Axes>"
      ]
     },
     "metadata": {
      "needs_background": "light"
     },
     "output_type": "display_data"
    },
    {
     "data": {
      "image/png": "[encoded data removed]",
      "text/plain": [
       "<Figure size 432x288 with 1 Axes>"
      ]
     },
     "metadata": {
      "needs_background": "light"
     },
     "output_type": "display_data"
    }
   ],
   "source": [
    "test_predictions=tuned_RF.predict(X_test)\n",
    "print(classification_report(y_test,test_predictions))\n",
    "cm = confusion_matrix(y_test, test_predictions, labels=tuned_RF.classes_)\n",
    "disp = ConfusionMatrixDisplay(confusion_matrix=cm,\n",
    "                             display_labels=tuned_RF.classes_)\n",
    "disp.plot()\n",
    "plt.show()\n",
    "\n",
    "RocCurveDisplay.from_estimator(tuned_RF,X_test,y_test)\n",
    "plt.show()"
   ]
  },
  {
   "cell_type": "code",
   "execution_count": 16,
   "id": "7b8c2f2d",
   "metadata": {},
   "outputs": [
    {
     "data": {
      "text/plain": [
       "array([1, 0, 0, 1, 0, 0, 0, 1, 0, 0, 0, 0, 1, 0, 1, 1, 0, 0, 0, 1, 0, 0,\n",
       "       1, 0, 1, 1, 0, 0, 0, 0, 1, 0, 0, 0, 0, 0, 0, 1, 1, 0, 0, 0, 0, 1,\n",
       "       0, 1, 1, 0, 0, 1, 1, 1, 1, 1, 0, 0, 0, 0, 1, 1, 0, 0, 1, 1, 0, 1,\n",
       "       0, 1, 1, 0, 1, 1, 0, 0, 0, 0, 1, 1, 1, 0, 0, 1, 1, 0, 1, 1, 1, 0,\n",
       "       1, 0, 1, 1, 1, 1, 1, 1, 0, 1, 1, 1])"
      ]
     },
     "execution_count": 16,
     "metadata": {},
     "output_type": "execute_result"
    }
   ],
   "source": [
    "test_predictions"
   ]
  },
  {
   "cell_type": "code",
   "execution_count": 17,
   "id": "4fe6e41e",
   "metadata": {},
   "outputs": [],
   "source": [
    "# #saving as pickle file\n",
    "# file = open('finalModel.pkl', 'wb')\n",
    "# pickle.dump(tuned_RF, file)\n",
    "# file.close()\n"
   ]
  },
  {
   "cell_type": "code",
   "execution_count": null,
   "id": "8ea9ef62",
   "metadata": {},
   "outputs": [],
   "source": []
  }
 ],
 "metadata": {
  "kernelspec": {
   "display_name": "Python 3 (ipykernel)",
   "language": "python",
   "name": "python3"
  },
  "language_info": {
   "codemirror_mode": {
    "name": "ipython",
    "version": 3
   },
   "file_extension": ".py",
   "mimetype": "text/x-python",
   "name": "python",
   "nbconvert_exporter": "python",
   "pygments_lexer": "ipython3",
   "version": "3.9.6"
  }
 },
 "nbformat": 4,
 "nbformat_minor": 5
}
